{
  "nbformat": 4,
  "nbformat_minor": 0,
  "metadata": {
    "colab": {
      "provenance": []
    },
    "kernelspec": {
      "name": "python3",
      "display_name": "Python 3"
    },
    "language_info": {
      "name": "python"
    }
  },
  "cells": [
    {
      "cell_type": "code",
      "execution_count": 1,
      "metadata": {
        "colab": {
          "base_uri": "https://localhost:8080/"
        },
        "id": "GPvdjPnGPNG7",
        "outputId": "5cb9a068-c1b9-4e15-c521-065b3df9f115"
      },
      "outputs": [
        {
          "output_type": "stream",
          "name": "stdout",
          "text": [
            "Requirement already satisfied: pyspark in /usr/local/lib/python3.12/dist-packages (3.5.1)\n",
            "Requirement already satisfied: py4j==0.10.9.7 in /usr/local/lib/python3.12/dist-packages (from pyspark) (0.10.9.7)\n"
          ]
        }
      ],
      "source": [
        "!pip install pyspark"
      ]
    },
    {
      "cell_type": "code",
      "source": [
        "from pyspark import SparkContext\n",
        "sc = SparkContext(\"local\", \"MyOwnRDD\")\n",
        "sc.setLogLevel(\"ERROR\")"
      ],
      "metadata": {
        "id": "jYy5dCLCPi2x"
      },
      "execution_count": 2,
      "outputs": []
    },
    {
      "cell_type": "code",
      "source": [
        "from google.colab import files\n",
        "uploaded = files.upload()\n",
        "file_name = list(uploaded.keys())[0]\n",
        "print(\"Uploaded file:\", file_name)"
      ],
      "metadata": {
        "colab": {
          "base_uri": "https://localhost:8080/",
          "height": 90
        },
        "id": "j8tQco-MQBhl",
        "outputId": "70be25f5-d183-4df7-d6fa-d4e8770cb278"
      },
      "execution_count": 3,
      "outputs": [
        {
          "output_type": "display_data",
          "data": {
            "text/plain": [
              "<IPython.core.display.HTML object>"
            ],
            "text/html": [
              "\n",
              "     <input type=\"file\" id=\"files-5c8298cc-511c-4973-ad28-53cbaa764432\" name=\"files[]\" multiple disabled\n",
              "        style=\"border:none\" />\n",
              "     <output id=\"result-5c8298cc-511c-4973-ad28-53cbaa764432\">\n",
              "      Upload widget is only available when the cell has been executed in the\n",
              "      current browser session. Please rerun this cell to enable.\n",
              "      </output>\n",
              "      <script>// Copyright 2017 Google LLC\n",
              "//\n",
              "// Licensed under the Apache License, Version 2.0 (the \"License\");\n",
              "// you may not use this file except in compliance with the License.\n",
              "// You may obtain a copy of the License at\n",
              "//\n",
              "//      http://www.apache.org/licenses/LICENSE-2.0\n",
              "//\n",
              "// Unless required by applicable law or agreed to in writing, software\n",
              "// distributed under the License is distributed on an \"AS IS\" BASIS,\n",
              "// WITHOUT WARRANTIES OR CONDITIONS OF ANY KIND, either express or implied.\n",
              "// See the License for the specific language governing permissions and\n",
              "// limitations under the License.\n",
              "\n",
              "/**\n",
              " * @fileoverview Helpers for google.colab Python module.\n",
              " */\n",
              "(function(scope) {\n",
              "function span(text, styleAttributes = {}) {\n",
              "  const element = document.createElement('span');\n",
              "  element.textContent = text;\n",
              "  for (const key of Object.keys(styleAttributes)) {\n",
              "    element.style[key] = styleAttributes[key];\n",
              "  }\n",
              "  return element;\n",
              "}\n",
              "\n",
              "// Max number of bytes which will be uploaded at a time.\n",
              "const MAX_PAYLOAD_SIZE = 100 * 1024;\n",
              "\n",
              "function _uploadFiles(inputId, outputId) {\n",
              "  const steps = uploadFilesStep(inputId, outputId);\n",
              "  const outputElement = document.getElementById(outputId);\n",
              "  // Cache steps on the outputElement to make it available for the next call\n",
              "  // to uploadFilesContinue from Python.\n",
              "  outputElement.steps = steps;\n",
              "\n",
              "  return _uploadFilesContinue(outputId);\n",
              "}\n",
              "\n",
              "// This is roughly an async generator (not supported in the browser yet),\n",
              "// where there are multiple asynchronous steps and the Python side is going\n",
              "// to poll for completion of each step.\n",
              "// This uses a Promise to block the python side on completion of each step,\n",
              "// then passes the result of the previous step as the input to the next step.\n",
              "function _uploadFilesContinue(outputId) {\n",
              "  const outputElement = document.getElementById(outputId);\n",
              "  const steps = outputElement.steps;\n",
              "\n",
              "  const next = steps.next(outputElement.lastPromiseValue);\n",
              "  return Promise.resolve(next.value.promise).then((value) => {\n",
              "    // Cache the last promise value to make it available to the next\n",
              "    // step of the generator.\n",
              "    outputElement.lastPromiseValue = value;\n",
              "    return next.value.response;\n",
              "  });\n",
              "}\n",
              "\n",
              "/**\n",
              " * Generator function which is called between each async step of the upload\n",
              " * process.\n",
              " * @param {string} inputId Element ID of the input file picker element.\n",
              " * @param {string} outputId Element ID of the output display.\n",
              " * @return {!Iterable<!Object>} Iterable of next steps.\n",
              " */\n",
              "function* uploadFilesStep(inputId, outputId) {\n",
              "  const inputElement = document.getElementById(inputId);\n",
              "  inputElement.disabled = false;\n",
              "\n",
              "  const outputElement = document.getElementById(outputId);\n",
              "  outputElement.innerHTML = '';\n",
              "\n",
              "  const pickedPromise = new Promise((resolve) => {\n",
              "    inputElement.addEventListener('change', (e) => {\n",
              "      resolve(e.target.files);\n",
              "    });\n",
              "  });\n",
              "\n",
              "  const cancel = document.createElement('button');\n",
              "  inputElement.parentElement.appendChild(cancel);\n",
              "  cancel.textContent = 'Cancel upload';\n",
              "  const cancelPromise = new Promise((resolve) => {\n",
              "    cancel.onclick = () => {\n",
              "      resolve(null);\n",
              "    };\n",
              "  });\n",
              "\n",
              "  // Wait for the user to pick the files.\n",
              "  const files = yield {\n",
              "    promise: Promise.race([pickedPromise, cancelPromise]),\n",
              "    response: {\n",
              "      action: 'starting',\n",
              "    }\n",
              "  };\n",
              "\n",
              "  cancel.remove();\n",
              "\n",
              "  // Disable the input element since further picks are not allowed.\n",
              "  inputElement.disabled = true;\n",
              "\n",
              "  if (!files) {\n",
              "    return {\n",
              "      response: {\n",
              "        action: 'complete',\n",
              "      }\n",
              "    };\n",
              "  }\n",
              "\n",
              "  for (const file of files) {\n",
              "    const li = document.createElement('li');\n",
              "    li.append(span(file.name, {fontWeight: 'bold'}));\n",
              "    li.append(span(\n",
              "        `(${file.type || 'n/a'}) - ${file.size} bytes, ` +\n",
              "        `last modified: ${\n",
              "            file.lastModifiedDate ? file.lastModifiedDate.toLocaleDateString() :\n",
              "                                    'n/a'} - `));\n",
              "    const percent = span('0% done');\n",
              "    li.appendChild(percent);\n",
              "\n",
              "    outputElement.appendChild(li);\n",
              "\n",
              "    const fileDataPromise = new Promise((resolve) => {\n",
              "      const reader = new FileReader();\n",
              "      reader.onload = (e) => {\n",
              "        resolve(e.target.result);\n",
              "      };\n",
              "      reader.readAsArrayBuffer(file);\n",
              "    });\n",
              "    // Wait for the data to be ready.\n",
              "    let fileData = yield {\n",
              "      promise: fileDataPromise,\n",
              "      response: {\n",
              "        action: 'continue',\n",
              "      }\n",
              "    };\n",
              "\n",
              "    // Use a chunked sending to avoid message size limits. See b/62115660.\n",
              "    let position = 0;\n",
              "    do {\n",
              "      const length = Math.min(fileData.byteLength - position, MAX_PAYLOAD_SIZE);\n",
              "      const chunk = new Uint8Array(fileData, position, length);\n",
              "      position += length;\n",
              "\n",
              "      const base64 = btoa(String.fromCharCode.apply(null, chunk));\n",
              "      yield {\n",
              "        response: {\n",
              "          action: 'append',\n",
              "          file: file.name,\n",
              "          data: base64,\n",
              "        },\n",
              "      };\n",
              "\n",
              "      let percentDone = fileData.byteLength === 0 ?\n",
              "          100 :\n",
              "          Math.round((position / fileData.byteLength) * 100);\n",
              "      percent.textContent = `${percentDone}% done`;\n",
              "\n",
              "    } while (position < fileData.byteLength);\n",
              "  }\n",
              "\n",
              "  // All done.\n",
              "  yield {\n",
              "    response: {\n",
              "      action: 'complete',\n",
              "    }\n",
              "  };\n",
              "}\n",
              "\n",
              "scope.google = scope.google || {};\n",
              "scope.google.colab = scope.google.colab || {};\n",
              "scope.google.colab._files = {\n",
              "  _uploadFiles,\n",
              "  _uploadFilesContinue,\n",
              "};\n",
              "})(self);\n",
              "</script> "
            ]
          },
          "metadata": {}
        },
        {
          "output_type": "stream",
          "name": "stdout",
          "text": [
            "Saving ScreenTime vs MentalWellness.csv to ScreenTime vs MentalWellness (1).csv\n",
            "Uploaded file: ScreenTime vs MentalWellness (1).csv\n"
          ]
        }
      ]
    },
    {
      "cell_type": "code",
      "source": [
        "stmw_rdd = sc.textFile(file_name)\n",
        "print(\"First 5 rows:\", stmw_rdd.take(5))"
      ],
      "metadata": {
        "colab": {
          "base_uri": "https://localhost:8080/"
        },
        "id": "DfsR1akHQQY1",
        "outputId": "26d65440-22c7-4ae1-bf87-f69cea0c4791"
      },
      "execution_count": 6,
      "outputs": [
        {
          "output_type": "stream",
          "name": "stdout",
          "text": [
            "First 5 rows: ['user_id,age,gender,occupation,work_mode,screen_time_hours,work_screen_hours,leisure_screen_hours,sleep_hours,sleep_quality_1_5,stress_level_0_10,productivity_0_100,exercise_minutes_per_week,social_hours_per_week,mental_wellness_index_0_100,', 'U0001,33,Female,Employed,Remote,10.79,5.44,5.35,6.63,1,9.3,44.7,127,0.7,9.3,', 'U0002,28,Female,Employed,In-person,7.4,0.37,7.03,8.05,3,5.7,78,74,2.1,56.2,', 'U0003,35,Female,Employed,Hybrid,9.78,1.09,8.69,6.48,1,9.1,51.8,67,8,3.6,', 'U0004,42,Male,Employed,Hybrid,11.13,0.56,10.57,6.89,1,10,37,0,5.7,0,']\n"
          ]
        }
      ]
    },
    {
      "cell_type": "code",
      "source": [
        "user_rdd = split_rdd.map(lambda cols: cols[3]).distinct().collect()\n",
        "print(\"Unique Categories:\", user_rdd)"
      ],
      "metadata": {
        "colab": {
          "base_uri": "https://localhost:8080/"
        },
        "id": "ppcbyHECTN08",
        "outputId": "06915139-7c62-4ec1-8fd9-3c653f1811bb"
      },
      "execution_count": 15,
      "outputs": [
        {
          "output_type": "stream",
          "name": "stdout",
          "text": [
            "Unique Categories: ['Employed', 'Student', 'Self-employed', 'Retired', 'Unemployed']\n"
          ]
        }
      ]
    },
    {
      "cell_type": "code",
      "source": [
        "sleep_rdd = split_rdd.map(lambda cols: (cols[3], (float(cols[9]), 1)))\n",
        "sleep_avg = sleep_rdd.reduceByKey(lambda a, b: (a[0] + b[0], a[1] + b[1])) \\\n",
        "                       .mapValues(lambda x: x[0] / x[1])\n",
        "\n",
        "print(\"Average Sleeping hours :\", sleep_avg.collect())"
      ],
      "metadata": {
        "colab": {
          "base_uri": "https://localhost:8080/"
        },
        "id": "PgrPvx8xUqou",
        "outputId": "8a1276a9-0430-4bb9-d48a-9feee7534b49"
      },
      "execution_count": 19,
      "outputs": [
        {
          "output_type": "stream",
          "name": "stdout",
          "text": [
            "Average Sleeping hours : [('Employed', 1.396135265700483), ('Student', 1.3644859813084111), ('Self-employed', 1.3777777777777778), ('Retired', 1.5), ('Unemployed', 1.5185185185185186)]\n"
          ]
        }
      ]
    },
    {
      "cell_type": "code",
      "source": [
        "total_rows = split_rdd.count()\n",
        "print(\"Total rows:\", total_rows)"
      ],
      "metadata": {
        "colab": {
          "base_uri": "https://localhost:8080/"
        },
        "id": "uZdIpYl4WmrX",
        "outputId": "7008777a-de5f-4dcc-8d01-0d88e52dddc7"
      },
      "execution_count": 23,
      "outputs": [
        {
          "output_type": "stream",
          "name": "stdout",
          "text": [
            "Total rows: 400\n"
          ]
        }
      ]
    },
    {
      "cell_type": "code",
      "source": [
        "unique_users_rdd = split_rdd.map(lambda cols: cols[0]).distinct().collect()\n",
        "print(\"Unique users:\", unique_users_rdd)"
      ],
      "metadata": {
        "colab": {
          "base_uri": "https://localhost:8080/"
        },
        "id": "3i-1PcCxWweF",
        "outputId": "5ed24d46-603b-4772-edc7-d5cb72e67c52"
      },
      "execution_count": 25,
      "outputs": [
        {
          "output_type": "stream",
          "name": "stdout",
          "text": [
            "Unique users: ['U0001', 'U0002', 'U0003', 'U0004', 'U0005', 'U0006', 'U0007', 'U0008', 'U0009', 'U0010', 'U0011', 'U0012', 'U0013', 'U0014', 'U0015', 'U0016', 'U0017', 'U0018', 'U0019', 'U0020', 'U0021', 'U0022', 'U0023', 'U0024', 'U0025', 'U0026', 'U0027', 'U0028', 'U0029', 'U0030', 'U0031', 'U0032', 'U0033', 'U0034', 'U0035', 'U0036', 'U0037', 'U0038', 'U0039', 'U0040', 'U0041', 'U0042', 'U0043', 'U0044', 'U0045', 'U0046', 'U0047', 'U0048', 'U0049', 'U0050', 'U0051', 'U0052', 'U0053', 'U0054', 'U0055', 'U0056', 'U0057', 'U0058', 'U0059', 'U0060', 'U0061', 'U0062', 'U0063', 'U0064', 'U0065', 'U0066', 'U0067', 'U0068', 'U0069', 'U0070', 'U0071', 'U0072', 'U0073', 'U0074', 'U0075', 'U0076', 'U0077', 'U0078', 'U0079', 'U0080', 'U0081', 'U0082', 'U0083', 'U0084', 'U0085', 'U0086', 'U0087', 'U0088', 'U0089', 'U0090', 'U0091', 'U0092', 'U0093', 'U0094', 'U0095', 'U0096', 'U0097', 'U0098', 'U0099', 'U0100', 'U0101', 'U0102', 'U0103', 'U0104', 'U0105', 'U0106', 'U0107', 'U0108', 'U0109', 'U0110', 'U0111', 'U0112', 'U0113', 'U0114', 'U0115', 'U0116', 'U0117', 'U0118', 'U0119', 'U0120', 'U0121', 'U0122', 'U0123', 'U0124', 'U0125', 'U0126', 'U0127', 'U0128', 'U0129', 'U0130', 'U0131', 'U0132', 'U0133', 'U0134', 'U0135', 'U0136', 'U0137', 'U0138', 'U0139', 'U0140', 'U0141', 'U0142', 'U0143', 'U0144', 'U0145', 'U0146', 'U0147', 'U0148', 'U0149', 'U0150', 'U0151', 'U0152', 'U0153', 'U0154', 'U0155', 'U0156', 'U0157', 'U0158', 'U0159', 'U0160', 'U0161', 'U0162', 'U0163', 'U0164', 'U0165', 'U0166', 'U0167', 'U0168', 'U0169', 'U0170', 'U0171', 'U0172', 'U0173', 'U0174', 'U0175', 'U0176', 'U0177', 'U0178', 'U0179', 'U0180', 'U0181', 'U0182', 'U0183', 'U0184', 'U0185', 'U0186', 'U0187', 'U0188', 'U0189', 'U0190', 'U0191', 'U0192', 'U0193', 'U0194', 'U0195', 'U0196', 'U0197', 'U0198', 'U0199', 'U0200', 'U0201', 'U0202', 'U0203', 'U0204', 'U0205', 'U0206', 'U0207', 'U0208', 'U0209', 'U0210', 'U0211', 'U0212', 'U0213', 'U0214', 'U0215', 'U0216', 'U0217', 'U0218', 'U0219', 'U0220', 'U0221', 'U0222', 'U0223', 'U0224', 'U0225', 'U0226', 'U0227', 'U0228', 'U0229', 'U0230', 'U0231', 'U0232', 'U0233', 'U0234', 'U0235', 'U0236', 'U0237', 'U0238', 'U0239', 'U0240', 'U0241', 'U0242', 'U0243', 'U0244', 'U0245', 'U0246', 'U0247', 'U0248', 'U0249', 'U0250', 'U0251', 'U0252', 'U0253', 'U0254', 'U0255', 'U0256', 'U0257', 'U0258', 'U0259', 'U0260', 'U0261', 'U0262', 'U0263', 'U0264', 'U0265', 'U0266', 'U0267', 'U0268', 'U0269', 'U0270', 'U0271', 'U0272', 'U0273', 'U0274', 'U0275', 'U0276', 'U0277', 'U0278', 'U0279', 'U0280', 'U0281', 'U0282', 'U0283', 'U0284', 'U0285', 'U0286', 'U0287', 'U0288', 'U0289', 'U0290', 'U0291', 'U0292', 'U0293', 'U0294', 'U0295', 'U0296', 'U0297', 'U0298', 'U0299', 'U0300', 'U0301', 'U0302', 'U0303', 'U0304', 'U0305', 'U0306', 'U0307', 'U0308', 'U0309', 'U0310', 'U0311', 'U0312', 'U0313', 'U0314', 'U0315', 'U0316', 'U0317', 'U0318', 'U0319', 'U0320', 'U0321', 'U0322', 'U0323', 'U0324', 'U0325', 'U0326', 'U0327', 'U0328', 'U0329', 'U0330', 'U0331', 'U0332', 'U0333', 'U0334', 'U0335', 'U0336', 'U0337', 'U0338', 'U0339', 'U0340', 'U0341', 'U0342', 'U0343', 'U0344', 'U0345', 'U0346', 'U0347', 'U0348', 'U0349', 'U0350', 'U0351', 'U0352', 'U0353', 'U0354', 'U0355', 'U0356', 'U0357', 'U0358', 'U0359', 'U0360', 'U0361', 'U0362', 'U0363', 'U0364', 'U0365', 'U0366', 'U0367', 'U0368', 'U0369', 'U0370', 'U0371', 'U0372', 'U0373', 'U0374', 'U0375', 'U0376', 'U0377', 'U0378', 'U0379', 'U0380', 'U0381', 'U0382', 'U0383', 'U0384', 'U0385', 'U0386', 'U0387', 'U0388', 'U0389', 'U0390', 'U0391', 'U0392', 'U0393', 'U0394', 'U0395', 'U0396', 'U0397', 'U0398', 'U0399', 'U0400']\n"
          ]
        }
      ]
    },
    {
      "cell_type": "code",
      "source": [
        "most_active_user = user_counts.orderBy(\"count\", ascending=False).first()\n",
        "print(\"Most active user:\", most_active_user['user_id'], \"with count:\", most_active_user['count'])\n"
      ],
      "metadata": {
        "colab": {
          "base_uri": "https://localhost:8080/"
        },
        "id": "WaQEs5ACXNSI",
        "outputId": "7c115814-f33e-40f9-a06e-3f0eda761217"
      },
      "execution_count": 29,
      "outputs": [
        {
          "output_type": "stream",
          "name": "stdout",
          "text": [
            "Most active user: U0024 with count: 1\n"
          ]
        }
      ]
    },
    {
      "cell_type": "code",
      "source": [
        "filtered_users = df.filter(df.user_id.contains(\"3\")).collect()\n",
        "print(\"Users containing '3':\", [row.user_id for row in filtered_users])\n"
      ],
      "metadata": {
        "colab": {
          "base_uri": "https://localhost:8080/"
        },
        "id": "t0Qe0C_BXQWA",
        "outputId": "dc06454c-ccce-4e20-de4a-cf8386d228c7"
      },
      "execution_count": 30,
      "outputs": [
        {
          "output_type": "stream",
          "name": "stdout",
          "text": [
            "Users containing '3': ['U0003', 'U0013', 'U0023', 'U0030', 'U0031', 'U0032', 'U0033', 'U0034', 'U0035', 'U0036', 'U0037', 'U0038', 'U0039', 'U0043', 'U0053', 'U0063', 'U0073', 'U0083', 'U0093', 'U0103', 'U0113', 'U0123', 'U0130', 'U0131', 'U0132', 'U0133', 'U0134', 'U0135', 'U0136', 'U0137', 'U0138', 'U0139', 'U0143', 'U0153', 'U0163', 'U0173', 'U0183', 'U0193', 'U0203', 'U0213', 'U0223', 'U0230', 'U0231', 'U0232', 'U0233', 'U0234', 'U0235', 'U0236', 'U0237', 'U0238', 'U0239', 'U0243', 'U0253', 'U0263', 'U0273', 'U0283', 'U0293', 'U0300', 'U0301', 'U0302', 'U0303', 'U0304', 'U0305', 'U0306', 'U0307', 'U0308', 'U0309', 'U0310', 'U0311', 'U0312', 'U0313', 'U0314', 'U0315', 'U0316', 'U0317', 'U0318', 'U0319', 'U0320', 'U0321', 'U0322', 'U0323', 'U0324', 'U0325', 'U0326', 'U0327', 'U0328', 'U0329', 'U0330', 'U0331', 'U0332', 'U0333', 'U0334', 'U0335', 'U0336', 'U0337', 'U0338', 'U0339', 'U0340', 'U0341', 'U0342', 'U0343', 'U0344', 'U0345', 'U0346', 'U0347', 'U0348', 'U0349', 'U0350', 'U0351', 'U0352', 'U0353', 'U0354', 'U0355', 'U0356', 'U0357', 'U0358', 'U0359', 'U0360', 'U0361', 'U0362', 'U0363', 'U0364', 'U0365', 'U0366', 'U0367', 'U0368', 'U0369', 'U0370', 'U0371', 'U0372', 'U0373', 'U0374', 'U0375', 'U0376', 'U0377', 'U0378', 'U0379', 'U0380', 'U0381', 'U0382', 'U0383', 'U0384', 'U0385', 'U0386', 'U0387', 'U0388', 'U0389', 'U0390', 'U0391', 'U0392', 'U0393', 'U0394', 'U0395', 'U0396', 'U0397', 'U0398', 'U0399']\n"
          ]
        }
      ]
    },
    {
      "cell_type": "code",
      "source": [
        "rdd = df.rdd\n",
        "upper_users = rdd.map(lambda row: row.user_id.upper()).collect()\n",
        "print(\"User IDs in uppercase:\", upper_users)\n"
      ],
      "metadata": {
        "colab": {
          "base_uri": "https://localhost:8080/"
        },
        "id": "2935inmfXZpD",
        "outputId": "6f55e1cd-a260-4485-f822-ca72f5b4446f"
      },
      "execution_count": 31,
      "outputs": [
        {
          "output_type": "stream",
          "name": "stdout",
          "text": [
            "User IDs in uppercase: ['U0001', 'U0002', 'U0003', 'U0004', 'U0005', 'U0006', 'U0007', 'U0008', 'U0009', 'U0010', 'U0011', 'U0012', 'U0013', 'U0014', 'U0015', 'U0016', 'U0017', 'U0018', 'U0019', 'U0020', 'U0021', 'U0022', 'U0023', 'U0024', 'U0025', 'U0026', 'U0027', 'U0028', 'U0029', 'U0030', 'U0031', 'U0032', 'U0033', 'U0034', 'U0035', 'U0036', 'U0037', 'U0038', 'U0039', 'U0040', 'U0041', 'U0042', 'U0043', 'U0044', 'U0045', 'U0046', 'U0047', 'U0048', 'U0049', 'U0050', 'U0051', 'U0052', 'U0053', 'U0054', 'U0055', 'U0056', 'U0057', 'U0058', 'U0059', 'U0060', 'U0061', 'U0062', 'U0063', 'U0064', 'U0065', 'U0066', 'U0067', 'U0068', 'U0069', 'U0070', 'U0071', 'U0072', 'U0073', 'U0074', 'U0075', 'U0076', 'U0077', 'U0078', 'U0079', 'U0080', 'U0081', 'U0082', 'U0083', 'U0084', 'U0085', 'U0086', 'U0087', 'U0088', 'U0089', 'U0090', 'U0091', 'U0092', 'U0093', 'U0094', 'U0095', 'U0096', 'U0097', 'U0098', 'U0099', 'U0100', 'U0101', 'U0102', 'U0103', 'U0104', 'U0105', 'U0106', 'U0107', 'U0108', 'U0109', 'U0110', 'U0111', 'U0112', 'U0113', 'U0114', 'U0115', 'U0116', 'U0117', 'U0118', 'U0119', 'U0120', 'U0121', 'U0122', 'U0123', 'U0124', 'U0125', 'U0126', 'U0127', 'U0128', 'U0129', 'U0130', 'U0131', 'U0132', 'U0133', 'U0134', 'U0135', 'U0136', 'U0137', 'U0138', 'U0139', 'U0140', 'U0141', 'U0142', 'U0143', 'U0144', 'U0145', 'U0146', 'U0147', 'U0148', 'U0149', 'U0150', 'U0151', 'U0152', 'U0153', 'U0154', 'U0155', 'U0156', 'U0157', 'U0158', 'U0159', 'U0160', 'U0161', 'U0162', 'U0163', 'U0164', 'U0165', 'U0166', 'U0167', 'U0168', 'U0169', 'U0170', 'U0171', 'U0172', 'U0173', 'U0174', 'U0175', 'U0176', 'U0177', 'U0178', 'U0179', 'U0180', 'U0181', 'U0182', 'U0183', 'U0184', 'U0185', 'U0186', 'U0187', 'U0188', 'U0189', 'U0190', 'U0191', 'U0192', 'U0193', 'U0194', 'U0195', 'U0196', 'U0197', 'U0198', 'U0199', 'U0200', 'U0201', 'U0202', 'U0203', 'U0204', 'U0205', 'U0206', 'U0207', 'U0208', 'U0209', 'U0210', 'U0211', 'U0212', 'U0213', 'U0214', 'U0215', 'U0216', 'U0217', 'U0218', 'U0219', 'U0220', 'U0221', 'U0222', 'U0223', 'U0224', 'U0225', 'U0226', 'U0227', 'U0228', 'U0229', 'U0230', 'U0231', 'U0232', 'U0233', 'U0234', 'U0235', 'U0236', 'U0237', 'U0238', 'U0239', 'U0240', 'U0241', 'U0242', 'U0243', 'U0244', 'U0245', 'U0246', 'U0247', 'U0248', 'U0249', 'U0250', 'U0251', 'U0252', 'U0253', 'U0254', 'U0255', 'U0256', 'U0257', 'U0258', 'U0259', 'U0260', 'U0261', 'U0262', 'U0263', 'U0264', 'U0265', 'U0266', 'U0267', 'U0268', 'U0269', 'U0270', 'U0271', 'U0272', 'U0273', 'U0274', 'U0275', 'U0276', 'U0277', 'U0278', 'U0279', 'U0280', 'U0281', 'U0282', 'U0283', 'U0284', 'U0285', 'U0286', 'U0287', 'U0288', 'U0289', 'U0290', 'U0291', 'U0292', 'U0293', 'U0294', 'U0295', 'U0296', 'U0297', 'U0298', 'U0299', 'U0300', 'U0301', 'U0302', 'U0303', 'U0304', 'U0305', 'U0306', 'U0307', 'U0308', 'U0309', 'U0310', 'U0311', 'U0312', 'U0313', 'U0314', 'U0315', 'U0316', 'U0317', 'U0318', 'U0319', 'U0320', 'U0321', 'U0322', 'U0323', 'U0324', 'U0325', 'U0326', 'U0327', 'U0328', 'U0329', 'U0330', 'U0331', 'U0332', 'U0333', 'U0334', 'U0335', 'U0336', 'U0337', 'U0338', 'U0339', 'U0340', 'U0341', 'U0342', 'U0343', 'U0344', 'U0345', 'U0346', 'U0347', 'U0348', 'U0349', 'U0350', 'U0351', 'U0352', 'U0353', 'U0354', 'U0355', 'U0356', 'U0357', 'U0358', 'U0359', 'U0360', 'U0361', 'U0362', 'U0363', 'U0364', 'U0365', 'U0366', 'U0367', 'U0368', 'U0369', 'U0370', 'U0371', 'U0372', 'U0373', 'U0374', 'U0375', 'U0376', 'U0377', 'U0378', 'U0379', 'U0380', 'U0381', 'U0382', 'U0383', 'U0384', 'U0385', 'U0386', 'U0387', 'U0388', 'U0389', 'U0390', 'U0391', 'U0392', 'U0393', 'U0394', 'U0395', 'U0396', 'U0397', 'U0398', 'U0399', 'U0400']\n"
          ]
        }
      ]
    },
    {
      "cell_type": "code",
      "source": [
        "user_counts_rdd = rdd.map(lambda row: (row.user_id, 1)) \\\n",
        "                     .reduceByKey(lambda a, b: a + b) \\\n",
        "                     .collect()\n",
        "\n",
        "print(\"User counts using RDD:\", user_counts_rdd)\n"
      ],
      "metadata": {
        "colab": {
          "base_uri": "https://localhost:8080/"
        },
        "id": "93Szj5jSXeIy",
        "outputId": "0a7ef8e5-2405-46f9-b7d5-d9074e40a202"
      },
      "execution_count": 32,
      "outputs": [
        {
          "output_type": "stream",
          "name": "stdout",
          "text": [
            "User counts using RDD: [('U0001', 1), ('U0002', 1), ('U0003', 1), ('U0004', 1), ('U0005', 1), ('U0006', 1), ('U0007', 1), ('U0008', 1), ('U0009', 1), ('U0010', 1), ('U0011', 1), ('U0012', 1), ('U0013', 1), ('U0014', 1), ('U0015', 1), ('U0016', 1), ('U0017', 1), ('U0018', 1), ('U0019', 1), ('U0020', 1), ('U0021', 1), ('U0022', 1), ('U0023', 1), ('U0024', 1), ('U0025', 1), ('U0026', 1), ('U0027', 1), ('U0028', 1), ('U0029', 1), ('U0030', 1), ('U0031', 1), ('U0032', 1), ('U0033', 1), ('U0034', 1), ('U0035', 1), ('U0036', 1), ('U0037', 1), ('U0038', 1), ('U0039', 1), ('U0040', 1), ('U0041', 1), ('U0042', 1), ('U0043', 1), ('U0044', 1), ('U0045', 1), ('U0046', 1), ('U0047', 1), ('U0048', 1), ('U0049', 1), ('U0050', 1), ('U0051', 1), ('U0052', 1), ('U0053', 1), ('U0054', 1), ('U0055', 1), ('U0056', 1), ('U0057', 1), ('U0058', 1), ('U0059', 1), ('U0060', 1), ('U0061', 1), ('U0062', 1), ('U0063', 1), ('U0064', 1), ('U0065', 1), ('U0066', 1), ('U0067', 1), ('U0068', 1), ('U0069', 1), ('U0070', 1), ('U0071', 1), ('U0072', 1), ('U0073', 1), ('U0074', 1), ('U0075', 1), ('U0076', 1), ('U0077', 1), ('U0078', 1), ('U0079', 1), ('U0080', 1), ('U0081', 1), ('U0082', 1), ('U0083', 1), ('U0084', 1), ('U0085', 1), ('U0086', 1), ('U0087', 1), ('U0088', 1), ('U0089', 1), ('U0090', 1), ('U0091', 1), ('U0092', 1), ('U0093', 1), ('U0094', 1), ('U0095', 1), ('U0096', 1), ('U0097', 1), ('U0098', 1), ('U0099', 1), ('U0100', 1), ('U0101', 1), ('U0102', 1), ('U0103', 1), ('U0104', 1), ('U0105', 1), ('U0106', 1), ('U0107', 1), ('U0108', 1), ('U0109', 1), ('U0110', 1), ('U0111', 1), ('U0112', 1), ('U0113', 1), ('U0114', 1), ('U0115', 1), ('U0116', 1), ('U0117', 1), ('U0118', 1), ('U0119', 1), ('U0120', 1), ('U0121', 1), ('U0122', 1), ('U0123', 1), ('U0124', 1), ('U0125', 1), ('U0126', 1), ('U0127', 1), ('U0128', 1), ('U0129', 1), ('U0130', 1), ('U0131', 1), ('U0132', 1), ('U0133', 1), ('U0134', 1), ('U0135', 1), ('U0136', 1), ('U0137', 1), ('U0138', 1), ('U0139', 1), ('U0140', 1), ('U0141', 1), ('U0142', 1), ('U0143', 1), ('U0144', 1), ('U0145', 1), ('U0146', 1), ('U0147', 1), ('U0148', 1), ('U0149', 1), ('U0150', 1), ('U0151', 1), ('U0152', 1), ('U0153', 1), ('U0154', 1), ('U0155', 1), ('U0156', 1), ('U0157', 1), ('U0158', 1), ('U0159', 1), ('U0160', 1), ('U0161', 1), ('U0162', 1), ('U0163', 1), ('U0164', 1), ('U0165', 1), ('U0166', 1), ('U0167', 1), ('U0168', 1), ('U0169', 1), ('U0170', 1), ('U0171', 1), ('U0172', 1), ('U0173', 1), ('U0174', 1), ('U0175', 1), ('U0176', 1), ('U0177', 1), ('U0178', 1), ('U0179', 1), ('U0180', 1), ('U0181', 1), ('U0182', 1), ('U0183', 1), ('U0184', 1), ('U0185', 1), ('U0186', 1), ('U0187', 1), ('U0188', 1), ('U0189', 1), ('U0190', 1), ('U0191', 1), ('U0192', 1), ('U0193', 1), ('U0194', 1), ('U0195', 1), ('U0196', 1), ('U0197', 1), ('U0198', 1), ('U0199', 1), ('U0200', 1), ('U0201', 1), ('U0202', 1), ('U0203', 1), ('U0204', 1), ('U0205', 1), ('U0206', 1), ('U0207', 1), ('U0208', 1), ('U0209', 1), ('U0210', 1), ('U0211', 1), ('U0212', 1), ('U0213', 1), ('U0214', 1), ('U0215', 1), ('U0216', 1), ('U0217', 1), ('U0218', 1), ('U0219', 1), ('U0220', 1), ('U0221', 1), ('U0222', 1), ('U0223', 1), ('U0224', 1), ('U0225', 1), ('U0226', 1), ('U0227', 1), ('U0228', 1), ('U0229', 1), ('U0230', 1), ('U0231', 1), ('U0232', 1), ('U0233', 1), ('U0234', 1), ('U0235', 1), ('U0236', 1), ('U0237', 1), ('U0238', 1), ('U0239', 1), ('U0240', 1), ('U0241', 1), ('U0242', 1), ('U0243', 1), ('U0244', 1), ('U0245', 1), ('U0246', 1), ('U0247', 1), ('U0248', 1), ('U0249', 1), ('U0250', 1), ('U0251', 1), ('U0252', 1), ('U0253', 1), ('U0254', 1), ('U0255', 1), ('U0256', 1), ('U0257', 1), ('U0258', 1), ('U0259', 1), ('U0260', 1), ('U0261', 1), ('U0262', 1), ('U0263', 1), ('U0264', 1), ('U0265', 1), ('U0266', 1), ('U0267', 1), ('U0268', 1), ('U0269', 1), ('U0270', 1), ('U0271', 1), ('U0272', 1), ('U0273', 1), ('U0274', 1), ('U0275', 1), ('U0276', 1), ('U0277', 1), ('U0278', 1), ('U0279', 1), ('U0280', 1), ('U0281', 1), ('U0282', 1), ('U0283', 1), ('U0284', 1), ('U0285', 1), ('U0286', 1), ('U0287', 1), ('U0288', 1), ('U0289', 1), ('U0290', 1), ('U0291', 1), ('U0292', 1), ('U0293', 1), ('U0294', 1), ('U0295', 1), ('U0296', 1), ('U0297', 1), ('U0298', 1), ('U0299', 1), ('U0300', 1), ('U0301', 1), ('U0302', 1), ('U0303', 1), ('U0304', 1), ('U0305', 1), ('U0306', 1), ('U0307', 1), ('U0308', 1), ('U0309', 1), ('U0310', 1), ('U0311', 1), ('U0312', 1), ('U0313', 1), ('U0314', 1), ('U0315', 1), ('U0316', 1), ('U0317', 1), ('U0318', 1), ('U0319', 1), ('U0320', 1), ('U0321', 1), ('U0322', 1), ('U0323', 1), ('U0324', 1), ('U0325', 1), ('U0326', 1), ('U0327', 1), ('U0328', 1), ('U0329', 1), ('U0330', 1), ('U0331', 1), ('U0332', 1), ('U0333', 1), ('U0334', 1), ('U0335', 1), ('U0336', 1), ('U0337', 1), ('U0338', 1), ('U0339', 1), ('U0340', 1), ('U0341', 1), ('U0342', 1), ('U0343', 1), ('U0344', 1), ('U0345', 1), ('U0346', 1), ('U0347', 1), ('U0348', 1), ('U0349', 1), ('U0350', 1), ('U0351', 1), ('U0352', 1), ('U0353', 1), ('U0354', 1), ('U0355', 1), ('U0356', 1), ('U0357', 1), ('U0358', 1), ('U0359', 1), ('U0360', 1), ('U0361', 1), ('U0362', 1), ('U0363', 1), ('U0364', 1), ('U0365', 1), ('U0366', 1), ('U0367', 1), ('U0368', 1), ('U0369', 1), ('U0370', 1), ('U0371', 1), ('U0372', 1), ('U0373', 1), ('U0374', 1), ('U0375', 1), ('U0376', 1), ('U0377', 1), ('U0378', 1), ('U0379', 1), ('U0380', 1), ('U0381', 1), ('U0382', 1), ('U0383', 1), ('U0384', 1), ('U0385', 1), ('U0386', 1), ('U0387', 1), ('U0388', 1), ('U0389', 1), ('U0390', 1), ('U0391', 1), ('U0392', 1), ('U0393', 1), ('U0394', 1), ('U0395', 1), ('U0396', 1), ('U0397', 1), ('U0398', 1), ('U0399', 1), ('U0400', 1)]\n"
          ]
        }
      ]
    }
  ]
}