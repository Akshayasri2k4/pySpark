{
  "nbformat": 4,
  "nbformat_minor": 0,
  "metadata": {
    "colab": {
      "provenance": []
    },
    "kernelspec": {
      "name": "python3",
      "display_name": "Python 3"
    },
    "language_info": {
      "name": "python"
    }
  },
  "cells": [
    {
      "cell_type": "code",
      "execution_count": null,
      "metadata": {
        "colab": {
          "base_uri": "https://localhost:8080/"
        },
        "id": "3SQI9HnFH7Pt",
        "outputId": "aa6fad1f-43dd-42f3-f9ca-0b86a70059fa"
      },
      "outputs": [
        {
          "output_type": "stream",
          "name": "stdout",
          "text": [
            "Requirement already satisfied: pyspark in /usr/local/lib/python3.12/dist-packages (3.5.1)\n",
            "Requirement already satisfied: py4j==0.10.9.7 in /usr/local/lib/python3.12/dist-packages (from pyspark) (0.10.9.7)\n"
          ]
        }
      ],
      "source": [
        "pip install pyspark\n"
      ]
    },
    {
      "cell_type": "code",
      "source": [
        "from pyspark import SparkContext\n",
        "sc=SparkContext(\"local\",\"RDD Practice\")\n",
        "students_rdd=sc.textFile(\"students.txt\")\n",
        "print(\"Students RDD:\",students_rdd.collect())"
      ],
      "metadata": {
        "colab": {
          "base_uri": "https://localhost:8080/"
        },
        "id": "OuiwVIG3IW8p",
        "outputId": "d3ab903a-6c5b-4ca0-aaea-25a06d911943"
      },
      "execution_count": null,
      "outputs": [
        {
          "output_type": "stream",
          "name": "stdout",
          "text": [
            "Students RDD: ['John,Math,85', 'John,Science,90', 'Alice,Math,78', 'Alice,Science,83', 'Bob,Math,92', 'Bob,Science,88']\n"
          ]
        }
      ]
    },
    {
      "cell_type": "code",
      "source": [
        "print(\"Original Students RDD partitions:\", students_rdd.getNumPartitions())"
      ],
      "metadata": {
        "colab": {
          "base_uri": "https://localhost:8080/"
        },
        "id": "JmoLRm1cRqcg",
        "outputId": "e6f43a5f-8ee4-41f7-ae44-ec44dfe5fd24"
      },
      "execution_count": null,
      "outputs": [
        {
          "output_type": "stream",
          "name": "stdout",
          "text": [
            "Original Students RDD partitions: 1\n"
          ]
        }
      ]
    },
    {
      "cell_type": "code",
      "source": [
        "repartitioned_students_rdd = students_rdd.repartition(2)\n",
        "print(\"Students RDD Partitions:\", repartitioned_students_rdd.getNumPartitions())"
      ],
      "metadata": {
        "colab": {
          "base_uri": "https://localhost:8080/"
        },
        "id": "prPi66TiRvl-",
        "outputId": "a3aef920-3974-40eb-afb8-32aac519fa61"
      },
      "execution_count": null,
      "outputs": [
        {
          "output_type": "stream",
          "name": "stdout",
          "text": [
            "Students RDD Partitions: 2\n"
          ]
        }
      ]
    },
    {
      "cell_type": "code",
      "source": [
        "print(\"Students Data by Partition:\", repartitioned_students_rdd.glom().collect())"
      ],
      "metadata": {
        "colab": {
          "base_uri": "https://localhost:8080/"
        },
        "id": "zOdkYKjeR1ri",
        "outputId": "10185902-f522-4034-9ae8-96b39121edde"
      },
      "execution_count": null,
      "outputs": [
        {
          "output_type": "stream",
          "name": "stdout",
          "text": [
            "Students Data by Partition: [[], ['John,Math,85', 'John,Science,90', 'Alice,Math,78', 'Alice,Science,83', 'Bob,Math,92', 'Bob,Science,88']]\n"
          ]
        }
      ]
    },
    {
      "cell_type": "code",
      "source": [
        "students_rdd_new = sc.textFile(\"students.txt\", minPartitions=3)\n",
        "print(\"Students RDD Partitions:\", students_rdd_new.getNumPartitions())\n",
        "print(\"Students RDD Partitions:\", students_rdd_new.glom().collect())"
      ],
      "metadata": {
        "colab": {
          "base_uri": "https://localhost:8080/"
        },
        "id": "oUAE_CgcR9Oo",
        "outputId": "67875968-4e21-4421-f1fc-01b923cf1872"
      },
      "execution_count": null,
      "outputs": [
        {
          "output_type": "stream",
          "name": "stdout",
          "text": [
            "Students RDD Partitions: 3\n",
            "Students RDD Partitions: [['John,Math,85', 'John,Science,90', 'Alice,Math,78'], ['Alice,Science,83'], ['Bob,Math,92', 'Bob,Science,88']]\n"
          ]
        }
      ]
    },
    {
      "cell_type": "code",
      "source": [
        "students_parsed = students_rdd_new.map(lambda line: (line.split(\",\")[0], line.split(\",\")[1], int(line.split(\",\")[2])))\n",
        "name_marks = students_parsed.map(lambda x: (x[0], x[2]))\n",
        "grouped = name_marks.groupByKey()\n",
        "avg_marks = grouped.mapValues(lambda marks: sum(marks) / len(marks))\n",
        "\n",
        "print(\"Average Marks per Student (groupByKey):\", avg_marks.collect())"
      ],
      "metadata": {
        "colab": {
          "base_uri": "https://localhost:8080/"
        },
        "id": "bUfA6fYPSaCl",
        "outputId": "e1950ef1-bddf-401d-a73d-a13b0c0d5f52"
      },
      "execution_count": null,
      "outputs": [
        {
          "output_type": "stream",
          "name": "stdout",
          "text": [
            "Average Marks per Student (groupByKey): [('John', 87.5), ('Alice', 80.5), ('Bob', 90.0)]\n"
          ]
        }
      ]
    },
    {
      "cell_type": "code",
      "source": [
        "high_scorers = name_marks.filter(lambda x: x[1] > 85)\n",
        "print(\"High Scorers:\", high_scorers.collect())"
      ],
      "metadata": {
        "colab": {
          "base_uri": "https://localhost:8080/"
        },
        "id": "NJixH4lNSxi8",
        "outputId": "9ae498da-a0ac-45e6-c507-e1331e3b55e7"
      },
      "execution_count": null,
      "outputs": [
        {
          "output_type": "stream",
          "name": "stdout",
          "text": [
            "High Scorers: [('John', 90), ('Bob', 92), ('Bob', 88)]\n"
          ]
        }
      ]
    },
    {
      "cell_type": "code",
      "source": [
        "sentences_rdd = sc.textFile(\"words.txt\")\n",
        "print(\"Sentences RDD:\", sentences_rdd.collect())"
      ],
      "metadata": {
        "colab": {
          "base_uri": "https://localhost:8080/"
        },
        "id": "kuLhiIGPS1-m",
        "outputId": "19934e38-f678-4110-c7ed-9e90f77f3e0f"
      },
      "execution_count": null,
      "outputs": [
        {
          "output_type": "stream",
          "name": "stdout",
          "text": [
            "Sentences RDD: ['Apache Spark is fast', 'Spark is fun', 'RDDs are the building blocks of Spark']\n"
          ]
        }
      ]
    },
    {
      "cell_type": "code",
      "source": [
        "words = sentences_rdd.flatMap(lambda line: line.split(\" \"))\n",
        "word_counts = words.map(lambda word: (word.lower(), 1)) \\\n",
        "                   .reduceByKey(lambda a, b: a + b)\n",
        "print(\"Word Counts:\", word_counts.collect())"
      ],
      "metadata": {
        "colab": {
          "base_uri": "https://localhost:8080/"
        },
        "id": "FNUKicXIS6xA",
        "outputId": "90573d4d-7142-4884-b01b-f8d4304f7b61"
      },
      "execution_count": null,
      "outputs": [
        {
          "output_type": "stream",
          "name": "stdout",
          "text": [
            "Word Counts: [('apache', 1), ('spark', 3), ('is', 2), ('fast', 1), ('fun', 1), ('rdds', 1), ('are', 1), ('the', 1), ('building', 1), ('blocks', 1), ('of', 1)]\n"
          ]
        }
      ]
    }
  ]
}