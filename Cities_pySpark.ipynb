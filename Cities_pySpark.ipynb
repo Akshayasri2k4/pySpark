{
  "nbformat": 4,
  "nbformat_minor": 0,
  "metadata": {
    "colab": {
      "provenance": []
    },
    "kernelspec": {
      "name": "python3",
      "display_name": "Python 3"
    },
    "language_info": {
      "name": "python"
    }
  },
  "cells": [
    {
      "cell_type": "code",
      "execution_count": null,
      "metadata": {
        "id": "_ahlpbiqt3tD",
        "colab": {
          "base_uri": "https://localhost:8080/"
        },
        "outputId": "01e8a9e2-4758-4ad9-d28f-a8073e6c2c76"
      },
      "outputs": [
        {
          "output_type": "stream",
          "name": "stdout",
          "text": [
            "Requirement already satisfied: pyspark in /usr/local/lib/python3.12/dist-packages (3.5.1)\n",
            "Requirement already satisfied: py4j==0.10.9.7 in /usr/local/lib/python3.12/dist-packages (from pyspark) (0.10.9.7)\n"
          ]
        }
      ],
      "source": [
        "!pip install pyspark"
      ]
    },
    {
      "cell_type": "code",
      "source": [
        "from pyspark import SparkContext\n",
        "\n",
        "# Initialize SparkContext\n",
        "sc = SparkContext(\"local\", \"CitiesRDD\")\n",
        "sc.setLogLevel(\"ERROR\")"
      ],
      "metadata": {
        "id": "eA2dSs-EuiuX"
      },
      "execution_count": null,
      "outputs": []
    },
    {
      "cell_type": "code",
      "source": [
        "from google.colab import files\n",
        "uploaded = files.upload()\n",
        "\n",
        "# File should now be in the working directory\n",
        "file_name = list(uploaded.keys())[0]\n",
        "print(\"Uploaded file:\", file_name)"
      ],
      "metadata": {
        "colab": {
          "base_uri": "https://localhost:8080/",
          "height": 90
        },
        "id": "yhvR5Gbxu5mI",
        "outputId": "153c3f42-63fa-4ded-d079-4a9005700c19"
      },
      "execution_count": null,
      "outputs": [
        {
          "output_type": "display_data",
          "data": {
            "text/plain": [
              "<IPython.core.display.HTML object>"
            ],
            "text/html": [
              "\n",
              "     <input type=\"file\" id=\"files-ce0b3d2b-d9ca-4ee0-a10c-1d444d18c70c\" name=\"files[]\" multiple disabled\n",
              "        style=\"border:none\" />\n",
              "     <output id=\"result-ce0b3d2b-d9ca-4ee0-a10c-1d444d18c70c\">\n",
              "      Upload widget is only available when the cell has been executed in the\n",
              "      current browser session. Please rerun this cell to enable.\n",
              "      </output>\n",
              "      <script>// Copyright 2017 Google LLC\n",
              "//\n",
              "// Licensed under the Apache License, Version 2.0 (the \"License\");\n",
              "// you may not use this file except in compliance with the License.\n",
              "// You may obtain a copy of the License at\n",
              "//\n",
              "//      http://www.apache.org/licenses/LICENSE-2.0\n",
              "//\n",
              "// Unless required by applicable law or agreed to in writing, software\n",
              "// distributed under the License is distributed on an \"AS IS\" BASIS,\n",
              "// WITHOUT WARRANTIES OR CONDITIONS OF ANY KIND, either express or implied.\n",
              "// See the License for the specific language governing permissions and\n",
              "// limitations under the License.\n",
              "\n",
              "/**\n",
              " * @fileoverview Helpers for google.colab Python module.\n",
              " */\n",
              "(function(scope) {\n",
              "function span(text, styleAttributes = {}) {\n",
              "  const element = document.createElement('span');\n",
              "  element.textContent = text;\n",
              "  for (const key of Object.keys(styleAttributes)) {\n",
              "    element.style[key] = styleAttributes[key];\n",
              "  }\n",
              "  return element;\n",
              "}\n",
              "\n",
              "// Max number of bytes which will be uploaded at a time.\n",
              "const MAX_PAYLOAD_SIZE = 100 * 1024;\n",
              "\n",
              "function _uploadFiles(inputId, outputId) {\n",
              "  const steps = uploadFilesStep(inputId, outputId);\n",
              "  const outputElement = document.getElementById(outputId);\n",
              "  // Cache steps on the outputElement to make it available for the next call\n",
              "  // to uploadFilesContinue from Python.\n",
              "  outputElement.steps = steps;\n",
              "\n",
              "  return _uploadFilesContinue(outputId);\n",
              "}\n",
              "\n",
              "// This is roughly an async generator (not supported in the browser yet),\n",
              "// where there are multiple asynchronous steps and the Python side is going\n",
              "// to poll for completion of each step.\n",
              "// This uses a Promise to block the python side on completion of each step,\n",
              "// then passes the result of the previous step as the input to the next step.\n",
              "function _uploadFilesContinue(outputId) {\n",
              "  const outputElement = document.getElementById(outputId);\n",
              "  const steps = outputElement.steps;\n",
              "\n",
              "  const next = steps.next(outputElement.lastPromiseValue);\n",
              "  return Promise.resolve(next.value.promise).then((value) => {\n",
              "    // Cache the last promise value to make it available to the next\n",
              "    // step of the generator.\n",
              "    outputElement.lastPromiseValue = value;\n",
              "    return next.value.response;\n",
              "  });\n",
              "}\n",
              "\n",
              "/**\n",
              " * Generator function which is called between each async step of the upload\n",
              " * process.\n",
              " * @param {string} inputId Element ID of the input file picker element.\n",
              " * @param {string} outputId Element ID of the output display.\n",
              " * @return {!Iterable<!Object>} Iterable of next steps.\n",
              " */\n",
              "function* uploadFilesStep(inputId, outputId) {\n",
              "  const inputElement = document.getElementById(inputId);\n",
              "  inputElement.disabled = false;\n",
              "\n",
              "  const outputElement = document.getElementById(outputId);\n",
              "  outputElement.innerHTML = '';\n",
              "\n",
              "  const pickedPromise = new Promise((resolve) => {\n",
              "    inputElement.addEventListener('change', (e) => {\n",
              "      resolve(e.target.files);\n",
              "    });\n",
              "  });\n",
              "\n",
              "  const cancel = document.createElement('button');\n",
              "  inputElement.parentElement.appendChild(cancel);\n",
              "  cancel.textContent = 'Cancel upload';\n",
              "  const cancelPromise = new Promise((resolve) => {\n",
              "    cancel.onclick = () => {\n",
              "      resolve(null);\n",
              "    };\n",
              "  });\n",
              "\n",
              "  // Wait for the user to pick the files.\n",
              "  const files = yield {\n",
              "    promise: Promise.race([pickedPromise, cancelPromise]),\n",
              "    response: {\n",
              "      action: 'starting',\n",
              "    }\n",
              "  };\n",
              "\n",
              "  cancel.remove();\n",
              "\n",
              "  // Disable the input element since further picks are not allowed.\n",
              "  inputElement.disabled = true;\n",
              "\n",
              "  if (!files) {\n",
              "    return {\n",
              "      response: {\n",
              "        action: 'complete',\n",
              "      }\n",
              "    };\n",
              "  }\n",
              "\n",
              "  for (const file of files) {\n",
              "    const li = document.createElement('li');\n",
              "    li.append(span(file.name, {fontWeight: 'bold'}));\n",
              "    li.append(span(\n",
              "        `(${file.type || 'n/a'}) - ${file.size} bytes, ` +\n",
              "        `last modified: ${\n",
              "            file.lastModifiedDate ? file.lastModifiedDate.toLocaleDateString() :\n",
              "                                    'n/a'} - `));\n",
              "    const percent = span('0% done');\n",
              "    li.appendChild(percent);\n",
              "\n",
              "    outputElement.appendChild(li);\n",
              "\n",
              "    const fileDataPromise = new Promise((resolve) => {\n",
              "      const reader = new FileReader();\n",
              "      reader.onload = (e) => {\n",
              "        resolve(e.target.result);\n",
              "      };\n",
              "      reader.readAsArrayBuffer(file);\n",
              "    });\n",
              "    // Wait for the data to be ready.\n",
              "    let fileData = yield {\n",
              "      promise: fileDataPromise,\n",
              "      response: {\n",
              "        action: 'continue',\n",
              "      }\n",
              "    };\n",
              "\n",
              "    // Use a chunked sending to avoid message size limits. See b/62115660.\n",
              "    let position = 0;\n",
              "    do {\n",
              "      const length = Math.min(fileData.byteLength - position, MAX_PAYLOAD_SIZE);\n",
              "      const chunk = new Uint8Array(fileData, position, length);\n",
              "      position += length;\n",
              "\n",
              "      const base64 = btoa(String.fromCharCode.apply(null, chunk));\n",
              "      yield {\n",
              "        response: {\n",
              "          action: 'append',\n",
              "          file: file.name,\n",
              "          data: base64,\n",
              "        },\n",
              "      };\n",
              "\n",
              "      let percentDone = fileData.byteLength === 0 ?\n",
              "          100 :\n",
              "          Math.round((position / fileData.byteLength) * 100);\n",
              "      percent.textContent = `${percentDone}% done`;\n",
              "\n",
              "    } while (position < fileData.byteLength);\n",
              "  }\n",
              "\n",
              "  // All done.\n",
              "  yield {\n",
              "    response: {\n",
              "      action: 'complete',\n",
              "    }\n",
              "  };\n",
              "}\n",
              "\n",
              "scope.google = scope.google || {};\n",
              "scope.google.colab = scope.google.colab || {};\n",
              "scope.google.colab._files = {\n",
              "  _uploadFiles,\n",
              "  _uploadFilesContinue,\n",
              "};\n",
              "})(self);\n",
              "</script> "
            ]
          },
          "metadata": {}
        },
        {
          "output_type": "stream",
          "name": "stdout",
          "text": [
            "Saving Cities_Details.csv to Cities_Details (1).csv\n",
            "Uploaded file: Cities_Details (1).csv\n"
          ]
        }
      ]
    },
    {
      "cell_type": "code",
      "source": [
        "header = cities_rdd.first()\n",
        "data_rdd = cities_rdd.filter(lambda row: row != header)\n",
        "cities = data_rdd.map(lambda line: line.split(\",\")) \\\n",
        "                       .map(lambda x: (x[2], x[3], int(x[6])))\n",
        "split_rdd = data_rdd.map(lambda row: row.split(\",\"))\n",
        "print(\"First 10 tuples:\", cities.take(10))\n"
      ],
      "metadata": {
        "colab": {
          "base_uri": "https://localhost:8080/"
        },
        "id": "mPcQQEmWu5Nz",
        "outputId": "adca608f-eacf-4c28-ea7d-b56e878057c7"
      },
      "execution_count": null,
      "outputs": [
        {
          "output_type": "stream",
          "name": "stdout",
          "text": [
            "First 10 tuples: [('Tokyo', 'Japan', 31480498), ('Shanghai', 'China', 14608512), ('Bombay', 'India', 12692717), ('Karachi', 'India', 11627378), ('Delhi', 'India', 10928270), ('New Delhi', 'India', 10928270), ('Manila', 'Philippines', 10443877), ('Moscow', 'Russia', 10381288), ('Seoul', 'South korea', 10323448), ('São Paulo', 'Brazil', 10021437)]\n"
          ]
        }
      ]
    },
    {
      "cell_type": "code",
      "source": [
        "countries = split_rdd.map(lambda cols: cols[3]).distinct().collect()\n",
        "print(\"Unique Countries:\", countries)"
      ],
      "metadata": {
        "colab": {
          "base_uri": "https://localhost:8080/"
        },
        "id": "6EPGCCiexS01",
        "outputId": "6bf143a5-cad7-473c-c7d7-0198c2d148cd"
      },
      "execution_count": null,
      "outputs": [
        {
          "output_type": "stream",
          "name": "stdout",
          "text": [
            "Unique Countries: ['Mexico', 'Congo', 'Bangladesh', 'Australia', 'Morocco', 'Angola', 'Italy', 'Ukraine', 'Dominican Republic', 'Syria', '', 'Brazil', 'USA', 'Peru', 'Canada', 'Myanmar', 'South Africa', 'Spain', 'Sudan', 'Tanzania�', 'Somalia', 'Iran', 'Japan', 'China', 'Philippines', 'Russia', 'South korea', 'Nigeria', 'Egypt', 'UK', 'Pakishtan', 'Afghanistan', 'Chile', 'Ivory Coast', 'Singapore', 'Saudi Arabia', 'Germany', 'Ethiopia', 'Kenya', 'Taiwan', 'France', 'India', 'Turkey', 'Indonesia', 'Colombia', 'Thailand', 'Vietnam', 'Senegal', 'Zimbabwe']\n"
          ]
        }
      ]
    },
    {
      "cell_type": "code",
      "source": [
        "cities_per_country = cities.map(lambda x: (x[1], 1)) \\\n",
        "                           .reduceByKey(lambda a, b: a + b)\n",
        "print(cities_per_country.collect())\n"
      ],
      "metadata": {
        "colab": {
          "base_uri": "https://localhost:8080/"
        },
        "id": "eRBgEqJMyA-i",
        "outputId": "a82767ba-1bef-4cb5-cd36-5d081f9e8a31"
      },
      "execution_count": null,
      "outputs": [
        {
          "output_type": "stream",
          "name": "stdout",
          "text": [
            "[('Mexico', 1), ('Congo', 1), ('Bangladesh', 1), ('Australia', 2), ('Morocco', 1), ('Angola', 1), ('Italy', 1), ('Ukraine', 1), ('Dominican Republic', 1), ('Syria', 1), ('', 998), ('Brazil', 5), ('USA', 4), ('Peru', 1), ('Canada', 2), ('Myanmar', 1), ('South Africa', 2), ('Spain', 1), ('Sudan', 1), ('Tanzania�', 1), ('Somalia', 1), ('Iran', 1), ('Japan', 2), ('China', 16), ('Philippines', 1), ('Russia', 2), ('South korea', 1), ('Nigeria', 3), ('Egypt', 3), ('UK', 1), ('Pakishtan', 1), ('Afghanistan', 2), ('Chile', 1), ('Ivory Coast', 1), ('Singapore', 1), ('Saudi Arabia', 2), ('Germany', 1), ('Ethiopia', 1), ('Kenya', 1), ('Taiwan', 1), ('France', 1), ('India', 16), ('Turkey', 3), ('Indonesia', 2), ('Colombia', 2), ('Thailand', 1), ('Vietnam', 1), ('Senegal', 1), ('Zimbabwe', 1)]\n"
          ]
        }
      ]
    },
    {
      "cell_type": "code",
      "source": [
        "top5_cities = cities.takeOrdered(5, key=lambda x: -x[2])\n",
        "print(top5_cities)\n"
      ],
      "metadata": {
        "colab": {
          "base_uri": "https://localhost:8080/"
        },
        "id": "bNhadm2LybzR",
        "outputId": "6ebe9555-10e1-4891-e285-609c67cda734"
      },
      "execution_count": null,
      "outputs": [
        {
          "output_type": "stream",
          "name": "stdout",
          "text": [
            "[('Tokyo', 'Japan', 31480498), ('Shanghai', 'China', 14608512), ('Bombay', 'India', 12692717), ('Karachi', 'India', 11627378), ('Delhi', 'India', 10928270)]\n"
          ]
        }
      ]
    },
    {
      "cell_type": "code",
      "source": [
        "total_population = cities.map(lambda x: (x[1], x[2])) \\\n",
        "                         .reduceByKey(lambda a, b: a + b)\n",
        "print(total_population.collect())\n"
      ],
      "metadata": {
        "colab": {
          "base_uri": "https://localhost:8080/"
        },
        "id": "4nysL0BCykkD",
        "outputId": "8f41a3a1-b933-4bb2-ca24-1a3350e863ae"
      },
      "execution_count": null,
      "outputs": [
        {
          "output_type": "stream",
          "name": "stdout",
          "text": [
            "[('Mexico', 8720916), ('Congo', 7787832), ('Bangladesh', 6493177), ('Australia', 8124797), ('Morocco', 3609698), ('Angola', 2776125), ('Italy', 2643736), ('Ukraine', 2514227), ('Dominican Republic', 2202016), ('Syria', 2139878), ('', 659441241), ('Brazil', 23043166), ('USA', 17538900), ('Peru', 7646786), ('Canada', 7880700), ('Myanmar', 4477782), ('South Africa', 6553844), ('Spain', 3102644), ('Sudan', 2810328), ('Tanzania�', 2698651), ('Somalia', 2590180), ('Iran', 2307254), ('Japan', 33671789), ('China', 66311087), ('Philippines', 10443877), ('Russia', 14421039), ('South korea', 10323448), ('Nigeria', 15981147), ('Egypt', 13989604), ('UK', 7421228), ('Pakishtan', 6312576), ('Afghanistan', 8716105), ('Chile', 4837248), ('Ivory Coast', 3692570), ('Singapore', 3547809), ('Saudi Arabia', 6015018), ('Germany', 3398362), ('Ethiopia', 2757807), ('Kenya', 2750561), ('Taiwan', 2514794), ('France', 2110694), ('India', 85960451), ('Turkey', 15818608), ('Indonesia', 10915226), ('Colombia', 9495499), ('Thailand', 5104475), ('Vietnam', 3467426), ('Senegal', 2702820), ('Zimbabwe', 2213701)]\n"
          ]
        }
      ]
    },
    {
      "cell_type": "code",
      "source": [
        "country_pop_count = cities.map(lambda x: (x[1], (x[2], 1))) \\\n",
        "                          .reduceByKey(lambda a, b: (a[0]+b[0], a[1]+b[1]))\n",
        "\n",
        "avg_population = country_pop_count.mapValues(lambda x: x[0] / x[1])\n",
        "print(avg_population.collect())\n"
      ],
      "metadata": {
        "colab": {
          "base_uri": "https://localhost:8080/"
        },
        "id": "B0EinwmOyrI9",
        "outputId": "3d7e70e5-4af7-4861-81ef-d8745b5f8476"
      },
      "execution_count": null,
      "outputs": [
        {
          "output_type": "stream",
          "name": "stdout",
          "text": [
            "[('Mexico', 8720916.0), ('Congo', 7787832.0), ('Bangladesh', 6493177.0), ('Australia', 4062398.5), ('Morocco', 3609698.0), ('Angola', 2776125.0), ('Italy', 2643736.0), ('Ukraine', 2514227.0), ('Dominican Republic', 2202016.0), ('Syria', 2139878.0), ('', 660762.7665330662), ('Brazil', 4608633.2), ('USA', 4384725.0), ('Peru', 7646786.0), ('Canada', 3940350.0), ('Myanmar', 4477782.0), ('South Africa', 3276922.0), ('Spain', 3102644.0), ('Sudan', 2810328.0), ('Tanzania�', 2698651.0), ('Somalia', 2590180.0), ('Iran', 2307254.0), ('Japan', 16835894.5), ('China', 4144442.9375), ('Philippines', 10443877.0), ('Russia', 7210519.5), ('South korea', 10323448.0), ('Nigeria', 5327049.0), ('Egypt', 4663201.333333333), ('UK', 7421228.0), ('Pakishtan', 6312576.0), ('Afghanistan', 4358052.5), ('Chile', 4837248.0), ('Ivory Coast', 3692570.0), ('Singapore', 3547809.0), ('Saudi Arabia', 3007509.0), ('Germany', 3398362.0), ('Ethiopia', 2757807.0), ('Kenya', 2750561.0), ('Taiwan', 2514794.0), ('France', 2110694.0), ('India', 5372528.1875), ('Turkey', 5272869.333333333), ('Indonesia', 5457613.0), ('Colombia', 4747749.5), ('Thailand', 5104475.0), ('Vietnam', 3467426.0), ('Senegal', 2702820.0), ('Zimbabwe', 2213701.0)]\n"
          ]
        }
      ]
    },
    {
      "cell_type": "code",
      "source": [
        "max_avg_country = avg_population.takeOrdered(1, key=lambda x: -x[1])\n",
        "print(max_avg_country)\n"
      ],
      "metadata": {
        "colab": {
          "base_uri": "https://localhost:8080/"
        },
        "id": "TxvYjJz-ywTz",
        "outputId": "191c4185-0622-4cf5-fc46-18e43d4cfd09"
      },
      "execution_count": null,
      "outputs": [
        {
          "output_type": "stream",
          "name": "stdout",
          "text": [
            "[('Japan', 16835894.5)]\n"
          ]
        }
      ]
    }
  ]
}